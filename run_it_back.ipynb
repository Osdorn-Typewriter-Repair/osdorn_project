{
 "cells": [
  {
   "cell_type": "code",
   "execution_count": 1,
   "metadata": {},
   "outputs": [],
   "source": [
    "# ignore warnings\n",
    "import warnings\n",
    "warnings.filterwarnings(\"ignore\")\n",
    "\n",
    "# Wrangling\n",
    "import pandas as pd\n",
    "import numpy as np\n",
    "\n",
    "# Exploring\n",
    "import scipy.stats as stats\n",
    "from scipy.stats import shapiro\n",
    "from scipy.stats import anderson\n",
    "from statsmodels.formula.api import ols\n",
    "from sklearn.cluster import KMeans\n",
    "from sklearn.linear_model import LinearRegression\n",
    "from sklearn.metrics import mean_squared_error, r2_score, explained_variance_score\n",
    "from sklearn.feature_selection import f_regression \n",
    "from sklearn.impute import SimpleImputer\n",
    "from sklearn.preprocessing import LabelEncoder, OneHotEncoder, MinMaxScaler\n",
    "from sklearn.model_selection import train_test_split\n",
    "from sklearn.preprocessing import PowerTransformer, QuantileTransformer, StandardScaler\n",
    "from statsmodels.graphics.gofplots import qqplot\n",
    "from math import sqrt\n",
    "from sklearn.ensemble import RandomForestClassifier\n",
    "from sklearn.metrics import classification_report\n",
    "from sklearn.metrics import confusion_matrix\n",
    "\n",
    "# Visualizing\n",
    "%matplotlib inline\n",
    "import matplotlib.pyplot as plt\n",
    "import seaborn as sns\n",
    "from mpl_toolkits.mplot3d import Axes3D\n"
   ]
  },
  {
   "cell_type": "code",
   "execution_count": 2,
   "metadata": {},
   "outputs": [],
   "source": [
    "import env\n",
    "df = pd.read_csv(\"zillow.csv\")"
   ]
  },
  {
   "cell_type": "code",
   "execution_count": 3,
   "metadata": {},
   "outputs": [],
   "source": [
    "pd.set_option('display.max_columns', None) "
   ]
  },
  {
   "cell_type": "code",
   "execution_count": 4,
   "metadata": {},
   "outputs": [],
   "source": [
    "def remove_dup_col(df):\n",
    "    df = df.loc[:,~df.columns.duplicated()]\n",
    "    return df\n",
    "df = remove_dup_col(df)"
   ]
  },
  {
   "cell_type": "code",
   "execution_count": 5,
   "metadata": {},
   "outputs": [],
   "source": [
    "def df2(df):\n",
    "    num_rows_missing = df.isna().sum()\n",
    "    pct_rows_missing = num_rows_missing/len(df)*100\n",
    "    df_sum = pd.DataFrame()\n",
    "    df_sum['num_rows_missing'] = num_rows_missing\n",
    "    df_sum['pct_rows_missing'] = pct_rows_missing\n",
    "    return df_sum"
   ]
  },
  {
   "cell_type": "code",
   "execution_count": 6,
   "metadata": {},
   "outputs": [],
   "source": [
    "def handle_missing_values(df, prop_required_column = .9, prop_required_row = .75):\n",
    "    threshold = int(round(prop_required_column*len(df.index),0))\n",
    "    df.dropna(axis=1, thresh=threshold, inplace=True)\n",
    "    threshold = int(round(prop_required_row*len(df.columns),0))\n",
    "    df.dropna(axis=0, thresh=threshold, inplace=True)\n",
    "    return df\n",
    "\n",
    "\n",
    "def data_prep(df, cols_to_remove=[], prop_required_column=.9, prop_required_row=.75):\n",
    "    df.drop(columns = cols_to_remove)\n",
    "    df = handle_missing_values(df, prop_required_column, prop_required_row)\n",
    "    return df\n",
    "df = data_prep(df, cols_to_remove=[], prop_required_column=.9, prop_required_row=.75)"
   ]
  },
  {
   "cell_type": "code",
   "execution_count": 7,
   "metadata": {},
   "outputs": [],
   "source": [
    "df.columns\n",
    "df = df.drop(columns= ['calculatedbathnbr','finishedsquarefeet12', 'fips',\n",
    "       'fullbathcnt', 'propertycountylandusecode', 'propertyzoningdesc', 'regionidcity', 'roomcnt', 'unitcnt', 'censustractandblock','transactiondate'] )"
   ]
  },
  {
   "cell_type": "code",
   "execution_count": 8,
   "metadata": {},
   "outputs": [],
   "source": [
    "df['taxrate'] = df.taxamount/df.taxvaluedollarcnt\n",
    "df['age'] = 2017 - df.yearbuilt\n",
    "# pd.options.display.float_format = '{:.5f}'.format\n",
    "# df.latitude = df.latitude.astype(float)/1000000\n",
    "# # df.latitude.astype(float)/1000000\n",
    "# df.longitude = df.longitude.astype(float)/1000000\n",
    "# df.longitude\n",
    "# df.head()"
   ]
  },
  {
   "cell_type": "code",
   "execution_count": 9,
   "metadata": {},
   "outputs": [],
   "source": [
    "df['structure_dollar_per_sqft'] = df.structuretaxvaluedollarcnt/df.calculatedfinishedsquarefeet\n",
    "df['land_dollar_per_sqft'] = df.landtaxvaluedollarcnt/df.lotsizesquarefeet"
   ]
  },
  {
   "cell_type": "code",
   "execution_count": 10,
   "metadata": {},
   "outputs": [],
   "source": [
    "# create a reference table of the box coordinates\n",
    "\n",
    "def box_coordinate_reference():\n",
    "    data = {'box': [1, 2, 3, 4, 5, 6, 7, 8, 9, 10, 11, 12, 13, 14, 15], \n",
    "            'lat_max': [34.20554422, 34.04802211, 33.99908439, 33.80387687, 33.78696072, 33.69952829, 33.59712547, \n",
    "                        33.49972314, 34.38229689, 34.00526394, 34.06277594, 33.90355421, 33.80675031, 33.72661788, \n",
    "                        33.63681764], \n",
    "            'lat_min': [34.00187156, 33.97400195, 33.6995076, 33.69879119, 33.60475644, 33.60475644, 33.50224095, \n",
    "                        33.40473173, 34.08712558, 33.80359565, 33.89700744, 33.74602844, 33.64904627, 33.56876661, \n",
    "                        33.47880174], \n",
    "            'lon_max': [-119.1012469, -118.4853365, -118.3643017, -118.010889, -117.995256, -117.8587745, -117.7050516,\n",
    "                        -117.595489, -117.1573461, -118.0072968, -116.7958861, -116.765738, -116.5865933, -116.4174318,\n",
    "                        -116.2908127], \n",
    "            'lon_min': [-119.2668432, -118.5999006, -118.4982449, -118.5063201, -118.1009925, -118.1009925, -117.9472695, \n",
    "                        -117.837707, -118.9924736, -118.3552993, -118.0734651, -118.0401843, -117.8610396, -117.7330499, \n",
    "                        -117.6064309]}\n",
    "    ref_df = pd.DataFrame(data)\n",
    "    return ref_df\n",
    "\n",
    "def find_box_id(df, ref_df):\n",
    "#     box_coordinate_reference()\n",
    "    df2 = df[['latitude', 'longitude', 'logerror', 'parcelid']]\n",
    "    \n",
    "    # divide lat and lon by 1,000,000\n",
    "    df2['latitude'] = df2.latitude / 1e6\n",
    "    df2['longitude'] = df2.longitude / 1e6\n",
    "    \n",
    "    # set lat and lon to be dual indices\n",
    "    df2 = df2.sort_values(['latitude', 'longitude']).set_index(['latitude', 'longitude'])\n",
    "\n",
    "    # create an empty dataframe that all the box_ids will be appended to as we loop through the box coordinates \n",
    "    # to identify each parcel\n",
    "    box_df = pd.DataFrame(columns = ['latitude', 'longitude', 'logerror', 'parcelid', 'box_id'])\n",
    "\n",
    "    for i, row in ref_df.iterrows():\n",
    "        box = df2.query('@row.lat_min <= latitude <= @row.lat_max and @row.lon_min <= longitude <= @row.lon_max')\n",
    "        box['box_id'] = i + 1\n",
    "        box = box.reset_index()\n",
    "        box_df = box_df.append(box)\n",
    "        \n",
    "    # set index to be parcel id for joining the 2 tables. \\\n",
    "    df = df.set_index('parcelid')\n",
    "    box_df = box_df.set_index('parcelid')\n",
    "    box_df = box_df.drop(columns=['latitude', 'longitude', 'logerror'])\n",
    "\n",
    "    # join the box id's to the original dataframe\n",
    "    return df.join(box_df).reset_index()\n",
    "\n"
   ]
  },
  {
   "cell_type": "code",
   "execution_count": 11,
   "metadata": {},
   "outputs": [
    {
     "name": "stdout",
     "output_type": "stream",
     "text": [
      "<class 'pandas.core.frame.DataFrame'>\n",
      "RangeIndex: 48285 entries, 0 to 48284\n",
      "Data columns (total 26 columns):\n",
      "parcelid                        48285 non-null int64\n",
      "id                              48285 non-null int64\n",
      "bathroomcnt                     48285 non-null int64\n",
      "bedroomcnt                      48285 non-null int64\n",
      "buildingqualitytypeid           47854 non-null float64\n",
      "calculatedfinishedsquarefeet    48282 non-null float64\n",
      "heatingorsystemtypeid           47644 non-null float64\n",
      "latitude                        48285 non-null int64\n",
      "longitude                       48285 non-null int64\n",
      "lotsizesquarefeet               47043 non-null float64\n",
      "propertylandusetypeid           48285 non-null int64\n",
      "rawcensustractandblock          48285 non-null float64\n",
      "regionidcounty                  48285 non-null int64\n",
      "regionidzip                     48265 non-null float64\n",
      "yearbuilt                       48276 non-null float64\n",
      "structuretaxvaluedollarcnt      48222 non-null float64\n",
      "taxvaluedollarcnt               48285 non-null int64\n",
      "assessmentyear                  48285 non-null int64\n",
      "landtaxvaluedollarcnt           48285 non-null int64\n",
      "taxamount                       48281 non-null float64\n",
      "logerror                        48285 non-null float64\n",
      "taxrate                         48281 non-null float64\n",
      "age                             48276 non-null float64\n",
      "structure_dollar_per_sqft       48219 non-null float64\n",
      "land_dollar_per_sqft            47043 non-null float64\n",
      "box_id                          35647 non-null object\n",
      "dtypes: float64(14), int64(11), object(1)\n",
      "memory usage: 9.6+ MB\n"
     ]
    }
   ],
   "source": [
    "box_coordinate_reference()\n",
    "df = find_box_id(df, box_coordinate_reference())\n",
    "df.info()\n"
   ]
  },
  {
   "cell_type": "code",
   "execution_count": 12,
   "metadata": {},
   "outputs": [
    {
     "data": {
      "text/plain": [
       "0          9\n",
       "1          9\n",
       "2          9\n",
       "3          9\n",
       "4          9\n",
       "5          9\n",
       "6          9\n",
       "7          9\n",
       "8          9\n",
       "9          9\n",
       "10         9\n",
       "11         9\n",
       "12         9\n",
       "13         9\n",
       "14         9\n",
       "15         9\n",
       "16         9\n",
       "17         9\n",
       "18         9\n",
       "19         9\n",
       "20         9\n",
       "21         9\n",
       "22         9\n",
       "23         9\n",
       "24         9\n",
       "25         9\n",
       "26         9\n",
       "27         9\n",
       "28         9\n",
       "29         9\n",
       "        ... \n",
       "48255     11\n",
       "48256     11\n",
       "48257     11\n",
       "48258     11\n",
       "48259      5\n",
       "48260      6\n",
       "48261     12\n",
       "48262     12\n",
       "48263     12\n",
       "48264      7\n",
       "48265      9\n",
       "48266      9\n",
       "48267    NaN\n",
       "48268    NaN\n",
       "48269    NaN\n",
       "48270    NaN\n",
       "48271    NaN\n",
       "48272    NaN\n",
       "48273    NaN\n",
       "48274      3\n",
       "48275      3\n",
       "48276      3\n",
       "48277      3\n",
       "48278      9\n",
       "48279      9\n",
       "48280      3\n",
       "48281      9\n",
       "48282     11\n",
       "48283      3\n",
       "48284      9\n",
       "Name: box_id, Length: 48285, dtype: object"
      ]
     },
     "execution_count": 12,
     "metadata": {},
     "output_type": "execute_result"
    }
   ],
   "source": [
    "df.box_id"
   ]
  },
  {
   "cell_type": "code",
   "execution_count": null,
   "metadata": {},
   "outputs": [],
   "source": []
  }
 ],
 "metadata": {
  "kernelspec": {
   "display_name": "Python 3",
   "language": "python",
   "name": "python3"
  },
  "language_info": {
   "codemirror_mode": {
    "name": "ipython",
    "version": 3
   },
   "file_extension": ".py",
   "mimetype": "text/x-python",
   "name": "python",
   "nbconvert_exporter": "python",
   "pygments_lexer": "ipython3",
   "version": "3.7.3"
  }
 },
 "nbformat": 4,
 "nbformat_minor": 2
}
