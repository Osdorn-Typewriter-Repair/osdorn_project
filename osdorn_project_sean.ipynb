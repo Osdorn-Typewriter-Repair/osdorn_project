{
 "cells": [
  {
   "cell_type": "code",
   "execution_count": 1,
   "metadata": {},
   "outputs": [],
   "source": [
    "# ignore warnings\n",
    "import warnings\n",
    "warnings.filterwarnings(\"ignore\")\n",
    "\n",
    "# Wrangling\n",
    "import pandas as pd\n",
    "import numpy as np\n",
    "\n",
    "# Exploring\n",
    "import scipy.stats as stats\n",
    "from statsmodels.formula.api import ols\n",
    "from sklearn.linear_model import LinearRegression\n",
    "from sklearn.metrics import mean_squared_error, r2_score, explained_variance_score\n",
    "from sklearn.feature_selection import f_regression \n",
    "from sklearn.impute import SimpleImputer\n",
    "from sklearn.preprocessing import LabelEncoder, OneHotEncoder, MinMaxScaler\n",
    "\n",
    "# Visualizing\n",
    "%matplotlib inline\n",
    "import matplotlib.pyplot as plt\n",
    "import seaborn as sns\n",
    "\n",
    "\n"
   ]
  },
  {
   "cell_type": "code",
   "execution_count": 2,
   "metadata": {},
   "outputs": [],
   "source": [
    "import env\n",
    "import acquire"
   ]
  },
  {
   "cell_type": "code",
   "execution_count": 3,
   "metadata": {},
   "outputs": [],
   "source": [
    "df = acquire.acquire_zillow()"
   ]
  },
  {
   "cell_type": "markdown",
   "metadata": {},
   "source": [
    "#### Force 'head' to show all columns"
   ]
  },
  {
   "cell_type": "code",
   "execution_count": 4,
   "metadata": {},
   "outputs": [],
   "source": [
    "pd.set_option('display.max_columns', None) "
   ]
  },
  {
   "cell_type": "markdown",
   "metadata": {},
   "source": [
    "#### Remove duplicate columns"
   ]
  },
  {
   "cell_type": "code",
   "execution_count": 5,
   "metadata": {},
   "outputs": [],
   "source": [
    "def remove_dup_col(df):\n",
    "    df = df.loc[:,~df.columns.duplicated()]\n",
    "    return df"
   ]
  },
  {
   "cell_type": "code",
   "execution_count": 6,
   "metadata": {},
   "outputs": [],
   "source": [
    "df = remove_dup_col(df)"
   ]
  },
  {
   "cell_type": "markdown",
   "metadata": {},
   "source": [
    "#### Calculate the number and percent of missing values for each attribute"
   ]
  },
  {
   "cell_type": "code",
   "execution_count": 7,
   "metadata": {},
   "outputs": [],
   "source": [
    "# def new_df(df):\n",
    "#     num_rows_missing = df.isna().sum()\n",
    "#     pct_rows_missing = num_rows_missing/len(df)*100\n",
    "#     df_sum = pd.DataFrame()\n",
    "#     df_sum['num_rows_missing'] = num_rows_missing\n",
    "#     df_sum['pct_rows_missing'] = pct_rows_missing\n",
    "#     return df_sum"
   ]
  },
  {
   "cell_type": "code",
   "execution_count": 8,
   "metadata": {},
   "outputs": [],
   "source": [
    "# new_df(df)"
   ]
  },
  {
   "cell_type": "code",
   "execution_count": 9,
   "metadata": {},
   "outputs": [],
   "source": [
    "def handle_missing_values(df, prop_required_column = .9, prop_required_row = .75):\n",
    "    threshold = int(round(prop_required_column*len(df.index),0))\n",
    "    df.dropna(axis=1, thresh=threshold, inplace=True)\n",
    "    threshold = int(round(prop_required_row*len(df.columns),0))\n",
    "    df.dropna(axis=0, thresh=threshold, inplace=True)\n",
    "    return df\n",
    "\n",
    "\n",
    "def data_prep(df, cols_to_remove=[], prop_required_column=.9, prop_required_row=.75):\n",
    "    df.drop(columns = cols_to_remove)\n",
    "    df = handle_missing_values(df, prop_required_column, prop_required_row)\n",
    "    return df"
   ]
  },
  {
   "cell_type": "code",
   "execution_count": 10,
   "metadata": {},
   "outputs": [],
   "source": [
    "df = data_prep(df, cols_to_remove=[], prop_required_column=.9, prop_required_row=.75)"
   ]
  },
  {
   "cell_type": "code",
   "execution_count": 11,
   "metadata": {},
   "outputs": [],
   "source": [
    "# def new_df(df):\n",
    "#     num_rows_missing = df.isna().sum()\n",
    "#     pct_rows_missing = num_rows_missing/len(df)*100\n",
    "#     df_sum = pd.DataFrame()\n",
    "#     df_sum['num_rows_missing'] = num_rows_missing\n",
    "#     df_sum['pct_rows_missing'] = pct_rows_missing\n",
    "#     return df_sum"
   ]
  },
  {
   "cell_type": "code",
   "execution_count": 12,
   "metadata": {},
   "outputs": [],
   "source": [
    "# new_df(df).info()"
   ]
  },
  {
   "cell_type": "markdown",
   "metadata": {},
   "source": [
    "#### Drop unneeded columns, pt 1"
   ]
  },
  {
   "cell_type": "code",
   "execution_count": 13,
   "metadata": {},
   "outputs": [],
   "source": [
    "def drop_col(df):\n",
    "        df = df.drop(columns = ['calculatedbathnbr', 'finishedsquarefeet12', 'fullbathcnt', 'propertycountylandusecode',\n",
    "                            'propertylandusetypeid', 'rawcensustractandblock', 'regionidcity', 'regionidzip', \n",
    "                            'censustractandblock', 'propertylandusedesc', 'transactiondate', 'assessmentyear',\n",
    "                            'roomcnt', 'regionidcounty'])\n",
    "        return df"
   ]
  },
  {
   "cell_type": "code",
   "execution_count": 14,
   "metadata": {},
   "outputs": [
    {
     "data": {
      "text/html": [
       "<div>\n",
       "<style scoped>\n",
       "    .dataframe tbody tr th:only-of-type {\n",
       "        vertical-align: middle;\n",
       "    }\n",
       "\n",
       "    .dataframe tbody tr th {\n",
       "        vertical-align: top;\n",
       "    }\n",
       "\n",
       "    .dataframe thead th {\n",
       "        text-align: right;\n",
       "    }\n",
       "</style>\n",
       "<table border=\"1\" class=\"dataframe\">\n",
       "  <thead>\n",
       "    <tr style=\"text-align: right;\">\n",
       "      <th></th>\n",
       "      <th>id</th>\n",
       "      <th>parcelid</th>\n",
       "      <th>logerror</th>\n",
       "      <th>bathroomcnt</th>\n",
       "      <th>bedroomcnt</th>\n",
       "      <th>calculatedfinishedsquarefeet</th>\n",
       "      <th>fips</th>\n",
       "      <th>latitude</th>\n",
       "      <th>longitude</th>\n",
       "      <th>lotsizesquarefeet</th>\n",
       "      <th>yearbuilt</th>\n",
       "      <th>structuretaxvaluedollarcnt</th>\n",
       "      <th>taxvaluedollarcnt</th>\n",
       "      <th>landtaxvaluedollarcnt</th>\n",
       "      <th>taxamount</th>\n",
       "    </tr>\n",
       "  </thead>\n",
       "  <tbody>\n",
       "    <tr>\n",
       "      <th>0</th>\n",
       "      <td>20</td>\n",
       "      <td>12325145</td>\n",
       "      <td>0.042463</td>\n",
       "      <td>2.0</td>\n",
       "      <td>4.0</td>\n",
       "      <td>3633.0</td>\n",
       "      <td>6037.0</td>\n",
       "      <td>34560018.0</td>\n",
       "      <td>-118169806.0</td>\n",
       "      <td>9826.0</td>\n",
       "      <td>2005.0</td>\n",
       "      <td>222321.0</td>\n",
       "      <td>296425.0</td>\n",
       "      <td>74104.0</td>\n",
       "      <td>6941.39</td>\n",
       "    </tr>\n",
       "    <tr>\n",
       "      <th>1</th>\n",
       "      <td>31</td>\n",
       "      <td>14338242</td>\n",
       "      <td>-0.019546</td>\n",
       "      <td>4.0</td>\n",
       "      <td>3.0</td>\n",
       "      <td>1620.0</td>\n",
       "      <td>6037.0</td>\n",
       "      <td>33996200.0</td>\n",
       "      <td>-118438000.0</td>\n",
       "      <td>NaN</td>\n",
       "      <td>2011.0</td>\n",
       "      <td>339532.0</td>\n",
       "      <td>847770.0</td>\n",
       "      <td>508238.0</td>\n",
       "      <td>10244.94</td>\n",
       "    </tr>\n",
       "    <tr>\n",
       "      <th>2</th>\n",
       "      <td>33</td>\n",
       "      <td>12155445</td>\n",
       "      <td>-0.040807</td>\n",
       "      <td>2.0</td>\n",
       "      <td>3.0</td>\n",
       "      <td>2077.0</td>\n",
       "      <td>6037.0</td>\n",
       "      <td>34012977.0</td>\n",
       "      <td>-118479243.0</td>\n",
       "      <td>6490.0</td>\n",
       "      <td>1926.0</td>\n",
       "      <td>210192.0</td>\n",
       "      <td>646760.0</td>\n",
       "      <td>436568.0</td>\n",
       "      <td>7924.68</td>\n",
       "    </tr>\n",
       "    <tr>\n",
       "      <th>3</th>\n",
       "      <td>110</td>\n",
       "      <td>14724525</td>\n",
       "      <td>0.042412</td>\n",
       "      <td>1.0</td>\n",
       "      <td>3.0</td>\n",
       "      <td>1244.0</td>\n",
       "      <td>6037.0</td>\n",
       "      <td>33953559.0</td>\n",
       "      <td>-118083855.0</td>\n",
       "      <td>6021.0</td>\n",
       "      <td>1950.0</td>\n",
       "      <td>108040.0</td>\n",
       "      <td>169471.0</td>\n",
       "      <td>61431.0</td>\n",
       "      <td>2532.88</td>\n",
       "    </tr>\n",
       "    <tr>\n",
       "      <th>4</th>\n",
       "      <td>111</td>\n",
       "      <td>14179809</td>\n",
       "      <td>-0.000908</td>\n",
       "      <td>2.0</td>\n",
       "      <td>3.0</td>\n",
       "      <td>1300.0</td>\n",
       "      <td>6037.0</td>\n",
       "      <td>33897134.0</td>\n",
       "      <td>-118102953.0</td>\n",
       "      <td>4917.0</td>\n",
       "      <td>1950.0</td>\n",
       "      <td>77415.0</td>\n",
       "      <td>233266.0</td>\n",
       "      <td>155851.0</td>\n",
       "      <td>3110.99</td>\n",
       "    </tr>\n",
       "  </tbody>\n",
       "</table>\n",
       "</div>"
      ],
      "text/plain": [
       "    id  parcelid  logerror  bathroomcnt  bedroomcnt  \\\n",
       "0   20  12325145  0.042463          2.0         4.0   \n",
       "1   31  14338242 -0.019546          4.0         3.0   \n",
       "2   33  12155445 -0.040807          2.0         3.0   \n",
       "3  110  14724525  0.042412          1.0         3.0   \n",
       "4  111  14179809 -0.000908          2.0         3.0   \n",
       "\n",
       "   calculatedfinishedsquarefeet    fips    latitude    longitude  \\\n",
       "0                        3633.0  6037.0  34560018.0 -118169806.0   \n",
       "1                        1620.0  6037.0  33996200.0 -118438000.0   \n",
       "2                        2077.0  6037.0  34012977.0 -118479243.0   \n",
       "3                        1244.0  6037.0  33953559.0 -118083855.0   \n",
       "4                        1300.0  6037.0  33897134.0 -118102953.0   \n",
       "\n",
       "   lotsizesquarefeet  yearbuilt  structuretaxvaluedollarcnt  \\\n",
       "0             9826.0     2005.0                    222321.0   \n",
       "1                NaN     2011.0                    339532.0   \n",
       "2             6490.0     1926.0                    210192.0   \n",
       "3             6021.0     1950.0                    108040.0   \n",
       "4             4917.0     1950.0                     77415.0   \n",
       "\n",
       "   taxvaluedollarcnt  landtaxvaluedollarcnt  taxamount  \n",
       "0           296425.0                74104.0    6941.39  \n",
       "1           847770.0               508238.0   10244.94  \n",
       "2           646760.0               436568.0    7924.68  \n",
       "3           169471.0                61431.0    2532.88  \n",
       "4           233266.0               155851.0    3110.99  "
      ]
     },
     "execution_count": 14,
     "metadata": {},
     "output_type": "execute_result"
    }
   ],
   "source": [
    "df = drop_col(df)\n",
    "df.head()"
   ]
  },
  {
   "cell_type": "markdown",
   "metadata": {},
   "source": [
    "### Manage missing values\n",
    "\n",
    "For land square feet, impute the missing values by creating a linear model where landtaxvaluedollarcnt is the x-variable and the output/y-variable is the estimated land square feet."
   ]
  },
  {
   "cell_type": "code",
   "execution_count": 15,
   "metadata": {},
   "outputs": [],
   "source": [
    "x = df['landtaxvaluedollarcnt']\n",
    "y = df['lotsizesquarefeet']\n",
    "ols_model = ols('lotsizesquarefeet ~ landtaxvaluedollarcnt', data=df).fit()\n",
    "\n",
    "df['yhat'] = ols_model.predict(df[['landtaxvaluedollarcnt']])"
   ]
  },
  {
   "cell_type": "code",
   "execution_count": 16,
   "metadata": {},
   "outputs": [],
   "source": [
    "# Use y when we have y, if y is NaN, use yhat\n",
    "df.lotsizesquarefeet = np.where(df.lotsizesquarefeet.isna(), df.yhat, df.lotsizesquarefeet)"
   ]
  },
  {
   "cell_type": "code",
   "execution_count": 17,
   "metadata": {},
   "outputs": [],
   "source": [
    "def impute_values(df):\n",
    "    sqfeet = df.calculatedfinishedsquarefeet.median()\n",
    "    df.calculatedfinishedsquarefeet = df.calculatedfinishedsquarefeet.fillna(sqfeet)\n",
    "    \n",
    "    structuretaxvalue = df.structuretaxvaluedollarcnt.median()\n",
    "    df.structuretaxvaluedollarcnt = df.structuretaxvaluedollarcnt.fillna(structuretaxvalue)\n",
    "    \n",
    "    taxvalue = df.taxvaluedollarcnt.median()\n",
    "    df.taxvaluedollarcnt = df.taxvaluedollarcnt.fillna(taxvalue)\n",
    "    \n",
    "    landtaxvalue = df.landtaxvaluedollarcnt.median()\n",
    "    df.landtaxvaluedollarcnt = df.landtaxvaluedollarcnt.fillna(landtaxvalue)\n",
    "    \n",
    "    return df"
   ]
  },
  {
   "cell_type": "code",
   "execution_count": 18,
   "metadata": {},
   "outputs": [],
   "source": [
    "x = df['taxvaluedollarcnt']\n",
    "y = df['taxamount']\n",
    "ols_model = ols('lotsizesquarefeet ~ taxvaluedollarcnt', data=df).fit()\n",
    "\n",
    "df['yhat'] = ols_model.predict(df[['taxvaluedollarcnt']])"
   ]
  },
  {
   "cell_type": "code",
   "execution_count": 19,
   "metadata": {},
   "outputs": [],
   "source": [
    "# use y when we have y, if y is NaN, use yhat\n",
    "df.taxamount = np.where(df.taxamount.isna(), df.yhat, df.taxamount)"
   ]
  },
  {
   "cell_type": "markdown",
   "metadata": {},
   "source": [
    "#### Drop rows with no 'yearbuilt' date"
   ]
  },
  {
   "cell_type": "code",
   "execution_count": 20,
   "metadata": {},
   "outputs": [],
   "source": [
    "df.fillna(value=pd.np.nan, inplace=True)"
   ]
  },
  {
   "cell_type": "code",
   "execution_count": 21,
   "metadata": {},
   "outputs": [],
   "source": [
    "df = df.dropna()"
   ]
  },
  {
   "cell_type": "code",
   "execution_count": 22,
   "metadata": {},
   "outputs": [],
   "source": [
    "def drop_col2(df): #Drop additional columns that are no longer of use. \n",
    "        df = df.drop(columns = ['taxamount', 'yhat'])\n",
    "        return df"
   ]
  },
  {
   "cell_type": "code",
   "execution_count": 23,
   "metadata": {},
   "outputs": [],
   "source": [
    "df = drop_col2(df)"
   ]
  },
  {
   "cell_type": "code",
   "execution_count": 28,
   "metadata": {},
   "outputs": [
    {
     "name": "stdout",
     "output_type": "stream",
     "text": [
      "<class 'pandas.core.frame.DataFrame'>\n",
      "Int64Index: 55624 entries, 0 to 55719\n",
      "Data columns (total 14 columns):\n",
      "id                              55624 non-null int64\n",
      "parcelid                        55624 non-null int64\n",
      "logerror                        55624 non-null float64\n",
      "bathroomcnt                     55624 non-null int64\n",
      "bedroomcnt                      55624 non-null int64\n",
      "calculatedfinishedsquarefeet    55624 non-null int64\n",
      "fips                            55624 non-null int64\n",
      "latitude                        55624 non-null int64\n",
      "longitude                       55624 non-null int64\n",
      "lotsizesquarefeet               55624 non-null int64\n",
      "yearbuilt                       55624 non-null int64\n",
      "structuretaxvaluedollarcnt      55624 non-null int64\n",
      "taxvaluedollarcnt               55624 non-null int64\n",
      "landtaxvaluedollarcnt           55624 non-null int64\n",
      "dtypes: float64(1), int64(13)\n",
      "memory usage: 6.4 MB\n"
     ]
    }
   ],
   "source": [
    "df.info()"
   ]
  },
  {
   "cell_type": "markdown",
   "metadata": {},
   "source": [
    "#### Adjust data types"
   ]
  },
  {
   "cell_type": "code",
   "execution_count": 25,
   "metadata": {},
   "outputs": [],
   "source": [
    "df[['bathroomcnt', 'calculatedfinishedsquarefeet', 'bedroomcnt','fips', 'latitude', 'longitude', 'lotsizesquarefeet', 'yearbuilt', 'structuretaxvaluedollarcnt', 'taxvaluedollarcnt', 'landtaxvaluedollarcnt']] =df[['bathroomcnt', 'calculatedfinishedsquarefeet', 'bedroomcnt','fips', 'latitude', 'longitude', 'lotsizesquarefeet', 'yearbuilt', 'structuretaxvaluedollarcnt', 'taxvaluedollarcnt', 'landtaxvaluedollarcnt']].astype('int64')"
   ]
  },
  {
   "cell_type": "markdown",
   "metadata": {},
   "source": [
    "#### Manage outliers"
   ]
  },
  {
   "cell_type": "code",
   "execution_count": 33,
   "metadata": {},
   "outputs": [],
   "source": [
    "def get_upper_outliers(s, k = 1.5):\n",
    "    '''\n",
    "    Given a series and a cutoff value, k, returns the upper outliers for the series.\n",
    "    The values returned will be either 0 (if the point is not an outlier), or a\n",
    "    number that indicates how far away from the upper bound the observation is.\n",
    "    '''\n",
    "    q1 = s.quantile([.25])\n",
    "    q3 = s.quantile([.75])\n",
    "    iqr = q3 - q1\n",
    "    upper_bound = q3 + k * iqr\n",
    "    return s.apply(lambda x: max([x - upper_bound, 0]))\n",
    "\n",
    "\n",
    "def add_upper_outlier_columns(df, k = 1.5):\n",
    "    \n",
    "    #Add a column with the suffix _outliers for all the numeric columns in the given dataframe.\n",
    "    \n",
    "    # outlier_cols = {col + '_outliers': get_upper_outliers(df[col], k) for col in df.select_dtypes('number')}\n",
    "    # return df.assign(**outlier_cols)\n",
    "\n",
    "    for col in df.select_dtypes('number'):\n",
    "        df[col + '_outliers'] = get_upper_outliers(df[col], k)\n",
    "        return df\n"
   ]
  },
  {
   "cell_type": "code",
   "execution_count": 34,
   "metadata": {},
   "outputs": [],
   "source": [
    "outlier_cols = [col for col in df if col.endswith('_outliers')]\n",
    "for col in outlier_cols:\n",
    "    print('~~~\\n' + col)\n",
    "    data = df[col][df[col] > 0]\n",
    "    print(data.describe())"
   ]
  },
  {
   "cell_type": "code",
   "execution_count": null,
   "metadata": {},
   "outputs": [],
   "source": []
  }
 ],
 "metadata": {
  "kernelspec": {
   "display_name": "Python 3",
   "language": "python",
   "name": "python3"
  },
  "language_info": {
   "codemirror_mode": {
    "name": "ipython",
    "version": 3
   },
   "file_extension": ".py",
   "mimetype": "text/x-python",
   "name": "python",
   "nbconvert_exporter": "python",
   "pygments_lexer": "ipython3",
   "version": "3.7.3"
  }
 },
 "nbformat": 4,
 "nbformat_minor": 2
}
